{
 "cells": [
  {
   "cell_type": "code",
   "execution_count": 15,
   "metadata": {},
   "outputs": [
    {
     "name": "stdout",
     "output_type": "stream",
     "text": [
      "All test cases passed!\n"
     ]
    }
   ],
   "source": [
    "def divided_differences(x, y):\n",
    "    \"\"\"\n",
    "    Compute the divided differences table for the given x and y values.\n",
    "    \n",
    "    Parameters:\n",
    "    x (list): List of x values.\n",
    "    y (list): List of y values.\n",
    "    \n",
    "    Returns:\n",
    "    list: A triangular matrix containing the divided differences.\n",
    "    \"\"\"\n",
    "    n = len(y)\n",
    "    coef = [[0] * n for _ in range(n)]\n",
    "    for i in range(n):\n",
    "        coef[i][0] = y[i]\n",
    "    \n",
    "    for j in range(1, n):\n",
    "        for i in range(n - j):\n",
    "            coef[i][j] = (coef[i + 1][j - 1] - coef[i][j - 1]) / (x[i + j] - x[i] + 1e-9)\n",
    "    \n",
    "    return coef\n",
    "\n",
    "def newton_interpolation(x, y, value):\n",
    "    \"\"\"\n",
    "    Evaluate the Newton interpolation polynomial at a given value.\n",
    "    \n",
    "    Parameters:\n",
    "    x (list): List of x values.\n",
    "    y (list): List of y values.\n",
    "    value (float): The point at which to evaluate the polynomial.\n",
    "    \n",
    "    Returns:\n",
    "    float: The interpolated value.\n",
    "    \"\"\"\n",
    "    coef = divided_differences(x, y)\n",
    "    result = coef[0][0]\n",
    "    term = 1\n",
    "    \n",
    "    for i in range(1, len(x)):\n",
    "        term *= (value - x[i - 1])\n",
    "        result += coef[0][i] * term\n",
    "    \n",
    "    return result\n",
    "\n",
    "def test_newton_interpolation():\n",
    "    # Test case 1: Simple linear interpolation\n",
    "    x_values1 = [1, 2]\n",
    "    y_values1 = [1, 2]\n",
    "    assert abs(newton_interpolation(x_values1, y_values1, 1.5) - 1.5) < 1e-9, \"Test case 1 failed\"\n",
    "    \n",
    "    # Test case 2: Quadratic interpolation\n",
    "    x_values2 = [1, 2, 3]\n",
    "    y_values2 = [1, 4, 9]\n",
    "    val = newton_interpolation(x_values2, y_values2, 2.5)\n",
    "    assert abs(val - 6.25) < 1e-6, f\"Test case 2 failed. val = {val}, expected = 6.25\"\n",
    "    \n",
    "    # Test case 3: Cubic interpolation\n",
    "    x_values3 = [1, 2, 4, 8]\n",
    "    y_values3 = [1, 4, 16, 64]\n",
    "    val = newton_interpolation(x_values3, y_values3, 5)\n",
    "    assert abs(val - 25) < 1e-6, f\"Test case 3 failed. val = {val}, expected = 25\"\n",
    "    \n",
    "    # Test case 4: Edge case with one point\n",
    "    x_values4 = [1]\n",
    "    y_values4 = [1]\n",
    "    val = newton_interpolation(x_values4, y_values4, 1)\n",
    "    assert abs(val - 1) < 1e-6, f\"Test case 4 failed. val = {val}, expected = 1\"\n",
    "    \n",
    "    # Test case 5: Edge case with two identical points\n",
    "    x_values5 = [1, 1]\n",
    "    y_values5 = [1, 1]\n",
    "    val = newton_interpolation(x_values5, y_values5, 1)\n",
    "    assert abs(val - 1) < 1e-6, f\"Test case 5 failed. val = {val}, expected = 1\"\n",
    "    \n",
    "    print(\"All test cases passed!\")\n",
    "\n",
    "# Run the tests\n",
    "test_newton_interpolation()"
   ]
  }
 ],
 "metadata": {
  "kernelspec": {
   "display_name": "myenv",
   "language": "python",
   "name": "python3"
  },
  "language_info": {
   "codemirror_mode": {
    "name": "ipython",
    "version": 3
   },
   "file_extension": ".py",
   "mimetype": "text/x-python",
   "name": "python",
   "nbconvert_exporter": "python",
   "pygments_lexer": "ipython3",
   "version": "3.12.3"
  }
 },
 "nbformat": 4,
 "nbformat_minor": 2
}
