{
 "cells": [
  {
   "cell_type": "code",
   "execution_count": null,
   "metadata": {},
   "outputs": [
    {
     "name": "stdout",
     "output_type": "stream",
     "text": [
      "Monte Carlo (Random): 0.3317786532087246\n",
      "Monte Carlo (Sobol): 0.333261576706171\n",
      "Monte Carlo (Scrambled Sobol): 0.33333354502336604\n"
     ]
    },
    {
     "name": "stderr",
     "output_type": "stream",
     "text": [
      "/home/ypodlesov/mmna/myenv/lib/python3.12/site-packages/scipy/stats/_qmc.py:993: UserWarning: The balance properties of Sobol' points require n to be a power of 2.\n",
      "  sample = self._random(n, workers=workers)\n"
     ]
    }
   ],
   "source": [
    "import numpy as np\n",
    "import scipy.stats.qmc as qmc\n",
    "\n",
    "def monte_carlo_integration(f, N, method=\"random\"):\n",
    "    if method == \"random\":\n",
    "        x = np.random.uniform(0, 1, N)\n",
    "    elif method == \"sobol\":\n",
    "        sampler = qmc.Sobol(d=1, scramble=False)\n",
    "        x = sampler.random(N).flatten()\n",
    "    elif method == \"scrambled_sobol\":\n",
    "        sampler = qmc.Sobol(d=1, scramble=True)\n",
    "        x = sampler.random(N).flatten()\n",
    "    else:\n",
    "        raise ValueError(\"Unknown method. Choose 'random', 'sobol', or 'scrambled_sobol'.\")\n",
    "    \n",
    "    estimate = np.mean(f(x))\n",
    "    return estimate\n",
    "\n",
    "def f(x):\n",
    "    return x**2\n",
    "\n",
    "N = 10000\n",
    "\n",
    "integral_random = monte_carlo_integration(f, N, method=\"random\")\n",
    "integral_sobol = monte_carlo_integration(f, N, method=\"sobol\")\n",
    "integral_scrambled_sobol = monte_carlo_integration(f, N, method=\"scrambled_sobol\")\n",
    "\n",
    "print(f\"Monte Carlo (Random): {integral_random}\")\n",
    "print(f\"Monte Carlo (Sobol): {integral_sobol}\")\n",
    "print(f\"Monte Carlo (Scrambled Sobol): {integral_scrambled_sobol}\")"
   ]
  }
 ],
 "metadata": {
  "kernelspec": {
   "display_name": "myenv",
   "language": "python",
   "name": "python3"
  },
  "language_info": {
   "codemirror_mode": {
    "name": "ipython",
    "version": 3
   },
   "file_extension": ".py",
   "mimetype": "text/x-python",
   "name": "python",
   "nbconvert_exporter": "python",
   "pygments_lexer": "ipython3",
   "version": "3.12.3"
  }
 },
 "nbformat": 4,
 "nbformat_minor": 2
}
