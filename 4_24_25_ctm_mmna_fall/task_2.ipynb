{
 "cells": [
  {
   "cell_type": "code",
   "execution_count": 9,
   "metadata": {},
   "outputs": [
    {
     "name": "stdout",
     "output_type": "stream",
     "text": [
      "Approximate polynomial coefficients: [ 1.46335132e-16  3.67828727e-02 -2.31113605e-01  4.89894684e-02\n",
      "  9.86594973e-01  5.90037115e-04]\n",
      "Max error: 0.0006034353644975843\n"
     ]
    }
   ],
   "source": [
    "import numpy as np\n",
    "from scipy.optimize import minimize\n",
    "\n",
    "def chebyshev_nodes(a, b, n):\n",
    "    return 0.5 * (a + b) + 0.5 * (b - a) * np.cos((2 * np.arange(n) + 1) * np.pi / (2 * n))\n",
    "\n",
    "def remez_poly(f, deg, a, b, n=100):\n",
    "    x = chebyshev_nodes(a, b, n)\n",
    "    y = f(x)\n",
    "    \n",
    "    def error(coeffs):\n",
    "        p = np.polyval(coeffs, x)\n",
    "        return np.max(np.abs(y - p)) - np.min(np.abs(y - p))\n",
    "    \n",
    "    initial_guess = np.polyfit(x, y, deg)\n",
    "    result = minimize(error, initial_guess, method='Nelder-Mead')\n",
    "    return result.x\n",
    "\n",
    "def check_approximation(f, approx, a, b, n_points=1000):\n",
    "    x = np.linspace(a, b, n_points)\n",
    "    y_true = f(x)\n",
    "    y_approx = np.polyval(approx, x)\n",
    "    error = np.max(np.abs(y_true - y_approx))\n",
    "    return error\n",
    "\n",
    "# Example usage\n",
    "def f(x):\n",
    "    return np.sin(x)\n",
    "\n",
    "deg = 5\n",
    "a, b = 0, np.pi\n",
    "approx_poly = remez_poly(f, deg, a, b)\n",
    "error = check_approximation(f, approx_poly, a, b)\n",
    "\n",
    "print(\"Approximate polynomial coefficients:\", approx_poly)\n",
    "print(\"Max error:\", error)"
   ]
  },
  {
   "cell_type": "code",
   "execution_count": 8,
   "metadata": {},
   "outputs": [
    {
     "name": "stdout",
     "output_type": "stream",
     "text": [
      "Approximate rational function coefficients: [-4.88230863e-04 -8.05942190e-05  6.24329655e-06  3.31292905e-04\n",
      "  5.28581158e-04  1.14288291e-04]\n",
      "Max error: 0.9453825476923567\n"
     ]
    },
    {
     "name": "stderr",
     "output_type": "stream",
     "text": [
      "/tmp/ipykernel_196706/3548690043.py:8: RuntimeWarning: invalid value encountered in divide\n",
      "  return p / q\n",
      "/tmp/ipykernel_196706/3548690043.py:8: RuntimeWarning: divide by zero encountered in divide\n",
      "  return p / q\n",
      "/tmp/ipykernel_196706/3548690043.py:17: RuntimeWarning: invalid value encountered in scalar subtract\n",
      "  return np.max(np.abs(y - r)) - np.min(np.abs(y - r))\n"
     ]
    }
   ],
   "source": [
    "from scipy.optimize import minimize\n",
    "\n",
    "def rational_function(x, coeffs):\n",
    "    \"\"\"Evaluate the rational function given the coefficients\"\"\"\n",
    "    num_coeffs = len(coeffs) // 2\n",
    "    p = np.polyval(coeffs[:num_coeffs], x)\n",
    "    q = np.polyval(coeffs[num_coeffs:], x)\n",
    "    return p / q\n",
    "\n",
    "def remez_rational(f, num_deg, den_deg, a, b, n=100):\n",
    "    \"\"\"Remez algorithm for rational function approximation\"\"\"\n",
    "    x = chebyshev_nodes(a, b, n)\n",
    "    y = f(x)\n",
    "    \n",
    "    def error(coeffs):\n",
    "        r = rational_function(x, coeffs)\n",
    "        return np.max(np.abs(y - r)) - np.min(np.abs(y - r))\n",
    "    \n",
    "    initial_guess = np.zeros(num_deg + den_deg)\n",
    "    result = minimize(error, initial_guess, method='Nelder-Mead')\n",
    "    return result.x\n",
    "\n",
    "def check_rational_approximation(f, approx, a, b, n_points=1000):\n",
    "    \"\"\"Check the quality of the rational function approximation\"\"\"\n",
    "    x = np.linspace(a, b, n_points)\n",
    "    y_true = f(x)\n",
    "    y_approx = rational_function(x, approx)\n",
    "    error = np.max(np.abs(y_true - y_approx))\n",
    "    return error\n",
    "\n",
    "def g(x):\n",
    "    return np.exp(-x)\n",
    "\n",
    "num_deg = 3\n",
    "den_deg = 3\n",
    "a, b = 0, 1\n",
    "approx_rational = remez_rational(g, num_deg, den_deg, a, b)\n",
    "error_rational = check_rational_approximation(g, approx_rational, a, b)\n",
    "\n",
    "print(\"Approximate rational function coefficients:\", approx_rational)\n",
    "print(\"Max error:\", error_rational)"
   ]
  }
 ],
 "metadata": {
  "kernelspec": {
   "display_name": "myenv",
   "language": "python",
   "name": "python3"
  },
  "language_info": {
   "codemirror_mode": {
    "name": "ipython",
    "version": 3
   },
   "file_extension": ".py",
   "mimetype": "text/x-python",
   "name": "python",
   "nbconvert_exporter": "python",
   "pygments_lexer": "ipython3",
   "version": "3.12.3"
  }
 },
 "nbformat": 4,
 "nbformat_minor": 2
}
