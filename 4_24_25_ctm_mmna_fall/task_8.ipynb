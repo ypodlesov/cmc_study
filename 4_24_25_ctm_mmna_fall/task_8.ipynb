{
 "cells": [
  {
   "cell_type": "code",
   "execution_count": null,
   "metadata": {},
   "outputs": [
    {
     "name": "stdout",
     "output_type": "stream",
     "text": [
      "Computed root: 1.4142135623730951\n",
      "True root: 1.4142135623730951\n",
      "Error: 0.0\n"
     ]
    }
   ],
   "source": [
    "import numpy as np\n",
    "\n",
    "def newton_method(f, df, x0, tol=1e-6, max_iter=100):\n",
    "    \"\"\"\n",
    "    Implements Newton's Method to find a root of the function f.\n",
    "    \n",
    "    Parameters:\n",
    "        f: Function whose root is to be found.\n",
    "        df: Derivative of the function.\n",
    "        x0: Initial guess.\n",
    "        tol: Tolerance for stopping criteria.\n",
    "        max_iter: Maximum number of iterations.\n",
    "    \n",
    "    Returns:\n",
    "        Approximate root of the function.\n",
    "    \"\"\"\n",
    "    x = x0\n",
    "    for i in range(max_iter):\n",
    "        fx = f(x)\n",
    "        dfx = df(x)\n",
    "        \n",
    "        if abs(dfx) < tol:\n",
    "            raise ValueError(\"Derivative is too small, method may not converge.\")\n",
    "        \n",
    "        x_new = x - fx / dfx\n",
    "        \n",
    "        if abs(x_new - x) < tol:\n",
    "            return x_new\n",
    "        \n",
    "        x = x_new\n",
    "    \n",
    "    raise ValueError(\"Maximum iterations exceeded, method did not converge.\")\n",
    "\n",
    "f = lambda x: x**2 - 2\n",
    "df = lambda x: 2*x\n",
    "\n",
    "x0 = 1.5\n",
    "\n",
    "root = newton_method(f, df, x0)\n",
    "\n",
    "true_root = np.sqrt(2)\n",
    "print(f\"Computed root: {root}\")\n",
    "print(f\"True root: {true_root}\")\n",
    "print(f\"Error: {abs(root - true_root)}\")\n"
   ]
  }
 ],
 "metadata": {
  "kernelspec": {
   "display_name": "myenv",
   "language": "python",
   "name": "python3"
  },
  "language_info": {
   "codemirror_mode": {
    "name": "ipython",
    "version": 3
   },
   "file_extension": ".py",
   "mimetype": "text/x-python",
   "name": "python",
   "nbconvert_exporter": "python",
   "pygments_lexer": "ipython3",
   "version": "3.12.3"
  }
 },
 "nbformat": 4,
 "nbformat_minor": 2
}
