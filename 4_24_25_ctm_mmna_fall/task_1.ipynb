{
 "cells": [
  {
   "cell_type": "code",
   "execution_count": 29,
   "metadata": {},
   "outputs": [],
   "source": [
    "import numpy as np\n",
    "import scipy.linalg as la\n",
    "import scipy.integrate as integrate\n",
    "import matplotlib.pyplot as plt\n",
    "import scipy.special as sp"
   ]
  },
  {
   "cell_type": "code",
   "execution_count": 33,
   "metadata": {},
   "outputs": [
    {
     "name": "stdout",
     "output_type": "stream",
     "text": [
      "Gram-Schmidt:\n",
      "Orthogonality: True\n",
      "\n",
      "Recurrent relations:\n",
      "Orthogonality: True\n"
     ]
    }
   ],
   "source": [
    "def gram_schmidt_orthogonalization(n):\n",
    "    X, W = np.polynomial.legendre.leggauss(n)\n",
    "    V = np.vander(X, increasing=True)\n",
    "    G = V.T @ np.diag(W) @ V\n",
    "    Q = la.cholesky(G, lower=True)\n",
    "    Q_inv = la.inv(Q)\n",
    "    ortho_polys = [np.poly1d(Q_inv[i, ::-1]) for i in range(n)]\n",
    "    return ortho_polys\n",
    "\n",
    "def recurrence_relation(n):\n",
    "    polys = [np.poly1d([1])]\n",
    "    if n > 1:\n",
    "        polys.append(np.poly1d([1, 0]))\n",
    "    for k in range(2, n):\n",
    "        Pk = ((2*k - 1) * np.poly1d([1, 0]) * polys[k-1] - (k - 1) * polys[k-2]) / k\n",
    "        polys.append(Pk)\n",
    "    return polys\n",
    "\n",
    "def check_orthogonality(polys, n):\n",
    "    X, W = np.polynomial.legendre.leggauss(n)\n",
    "    V = np.array([[p(x) for p in polys] for x in X])\n",
    "    G = V.T @ np.diag(W) @ V\n",
    "    return np.allclose(G - np.diag(np.diag(G)), 0)\n",
    "\n",
    "n = 10\n",
    "gs_polys = gram_schmidt_orthogonalization(n)\n",
    "rec_polys = recurrence_relation(n)\n",
    "\n",
    "print(\"Gram-Schmidt:\")\n",
    "print(\"Orthogonality:\", check_orthogonality(gs_polys, n))\n",
    "\n",
    "print()\n",
    "\n",
    "print(\"Recurrent relations:\")\n",
    "print(\"Orthogonality:\", check_orthogonality(rec_polys, n))"
   ]
  },
  {
   "cell_type": "code",
   "execution_count": 34,
   "metadata": {},
   "outputs": [
    {
     "name": "stdout",
     "output_type": "stream",
     "text": [
      "Orthogonal: True\n"
     ]
    }
   ],
   "source": [
    "import numpy as np\n",
    "import scipy.linalg as la\n",
    "\n",
    "def create_jacobi_matrix(n, alpha=1e-9, beta=1e-9):\n",
    "    J = np.zeros((n, n))\n",
    "    for i in range(n - 1):\n",
    "        J[i, i + 1] = np.sqrt((i + 1) * (i + alpha) / (2 * (i + beta)))\n",
    "        J[i + 1, i] = J[i, i + 1]\n",
    "    for i in range(n):\n",
    "        J[i, i] = (2 * i + alpha + beta)\n",
    "    return J\n",
    "\n",
    "def orthogonal_polynomials_from_jacobi_matrix(jacobi_matrix):\n",
    "    eigenvalues, eigenvectors = la.eig(jacobi_matrix)\n",
    "    eigenvalues = eigenvalues.real\n",
    "    eigenvectors = eigenvectors.real\n",
    "    norm_eigenvectors = np.zeros_like(eigenvectors)\n",
    "    \n",
    "    for i in range(eigenvectors.shape[1]):\n",
    "        norm_eigenvectors[:, i] = eigenvectors[:, i] / np.linalg.norm(eigenvectors[:, i])\n",
    "\n",
    "    polynomials = []\n",
    "    for i in range(norm_eigenvectors.shape[1]):\n",
    "        polynomials.append(norm_eigenvectors[:, i])\n",
    "    \n",
    "    return polynomials\n",
    "\n",
    "def check_orthogonality(polynomials, epsilon=1e-10):\n",
    "    n = len(polynomials)\n",
    "    for i in range(n):\n",
    "        for j in range(i + 1, n):\n",
    "            dot_product = np.dot(polynomials[i], polynomials[j])\n",
    "            if abs(dot_product) > epsilon:\n",
    "                print(f\"Polynomials {i+1} and {j+1} not orthogonal! Dot product: {dot_product}\")\n",
    "                return False\n",
    "    return True\n",
    "\n",
    "n = 10\n",
    "jacobi_matrix = create_jacobi_matrix(n)\n",
    "polynomials = orthogonal_polynomials_from_jacobi_matrix(jacobi_matrix)\n",
    "print(\"Orthogonal:\", check_orthogonality(polynomials))\n"
   ]
  }
 ],
 "metadata": {
  "kernelspec": {
   "display_name": "myenv",
   "language": "python",
   "name": "python3"
  },
  "language_info": {
   "codemirror_mode": {
    "name": "ipython",
    "version": 3
   },
   "file_extension": ".py",
   "mimetype": "text/x-python",
   "name": "python",
   "nbconvert_exporter": "python",
   "pygments_lexer": "ipython3",
   "version": "3.12.3"
  }
 },
 "nbformat": 4,
 "nbformat_minor": 2
}
